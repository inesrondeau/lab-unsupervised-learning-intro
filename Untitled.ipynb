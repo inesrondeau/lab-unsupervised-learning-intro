{
 "cells": [
  {
   "cell_type": "code",
   "execution_count": 1,
   "id": "9b2cf638",
   "metadata": {},
   "outputs": [],
   "source": [
    "import pandas as pd\n",
    "import requests\n",
    "from bs4 import BeautifulSoup"
   ]
  },
  {
   "cell_type": "code",
   "execution_count": 2,
   "id": "d877655d",
   "metadata": {},
   "outputs": [],
   "source": [
    "url= 'https://www.billboard.com/charts/hot-100'"
   ]
  },
  {
   "cell_type": "code",
   "execution_count": 3,
   "id": "b27f4eca",
   "metadata": {},
   "outputs": [],
   "source": [
    "response=requests.get(url)"
   ]
  },
  {
   "cell_type": "code",
   "execution_count": 4,
   "id": "af04f502",
   "metadata": {},
   "outputs": [],
   "source": [
    "soup=BeautifulSoup(response.content,'html.parser')"
   ]
  },
  {
   "cell_type": "code",
   "execution_count": 5,
   "id": "ce2178cf",
   "metadata": {},
   "outputs": [],
   "source": [
    "#soup.select('span.chart-element__information span ')"
   ]
  },
  {
   "cell_type": "code",
   "execution_count": 6,
   "id": "8d395cff",
   "metadata": {},
   "outputs": [],
   "source": [
    "title=[]\n",
    "artist=[]\n",
    "for i in soup.select('span.chart-element__information__song'):\n",
    "    title.append(i.get_text())\n",
    "for i in soup.select('span.chart-element__information__artist'):\n",
    "    artist.append(i.get_text())"
   ]
  },
  {
   "cell_type": "code",
   "execution_count": 7,
   "id": "87a15fca",
   "metadata": {},
   "outputs": [],
   "source": [
    "hot100=pd.DataFrame({'title':title,'artist':artist})"
   ]
  },
  {
   "cell_type": "code",
   "execution_count": 8,
   "id": "1d63267f",
   "metadata": {},
   "outputs": [
    {
     "data": {
      "text/html": [
       "<div>\n",
       "<style scoped>\n",
       "    .dataframe tbody tr th:only-of-type {\n",
       "        vertical-align: middle;\n",
       "    }\n",
       "\n",
       "    .dataframe tbody tr th {\n",
       "        vertical-align: top;\n",
       "    }\n",
       "\n",
       "    .dataframe thead th {\n",
       "        text-align: right;\n",
       "    }\n",
       "</style>\n",
       "<table border=\"1\" class=\"dataframe\">\n",
       "  <thead>\n",
       "    <tr style=\"text-align: right;\">\n",
       "      <th></th>\n",
       "      <th>title</th>\n",
       "      <th>artist</th>\n",
       "    </tr>\n",
       "  </thead>\n",
       "  <tbody>\n",
       "    <tr>\n",
       "      <th>0</th>\n",
       "      <td>Way 2 Sexy</td>\n",
       "      <td>Drake Featuring Future &amp; Young Thug</td>\n",
       "    </tr>\n",
       "    <tr>\n",
       "      <th>1</th>\n",
       "      <td>Girls Want Girls</td>\n",
       "      <td>Drake Featuring Lil Baby</td>\n",
       "    </tr>\n",
       "    <tr>\n",
       "      <th>2</th>\n",
       "      <td>Fair Trade</td>\n",
       "      <td>Drake Featuring Travis Scott</td>\n",
       "    </tr>\n",
       "    <tr>\n",
       "      <th>3</th>\n",
       "      <td>Champagne Poetry</td>\n",
       "      <td>Drake</td>\n",
       "    </tr>\n",
       "    <tr>\n",
       "      <th>4</th>\n",
       "      <td>Knife Talk</td>\n",
       "      <td>Drake Featuring 21 Savage &amp; Project Pat</td>\n",
       "    </tr>\n",
       "  </tbody>\n",
       "</table>\n",
       "</div>"
      ],
      "text/plain": [
       "              title                                   artist\n",
       "0        Way 2 Sexy      Drake Featuring Future & Young Thug\n",
       "1  Girls Want Girls                 Drake Featuring Lil Baby\n",
       "2        Fair Trade             Drake Featuring Travis Scott\n",
       "3  Champagne Poetry                                    Drake\n",
       "4        Knife Talk  Drake Featuring 21 Savage & Project Pat"
      ]
     },
     "execution_count": 8,
     "metadata": {},
     "output_type": "execute_result"
    }
   ],
   "source": [
    "hot100.head()"
   ]
  },
  {
   "cell_type": "code",
   "execution_count": 9,
   "id": "23cffd63",
   "metadata": {},
   "outputs": [],
   "source": [
    "years=[2018,2019,2020]"
   ]
  },
  {
   "cell_type": "code",
   "execution_count": 10,
   "id": "3a1b207e",
   "metadata": {},
   "outputs": [],
   "source": [
    "from time import sleep\n",
    "from random import randint"
   ]
  },
  {
   "cell_type": "code",
   "execution_count": 11,
   "id": "9f6112e8",
   "metadata": {},
   "outputs": [],
   "source": [
    "pages=[]\n",
    "title1=[]\n",
    "artist1=[]\n",
    "for i in years:\n",
    "    url= 'https://www.elportaldemusica.es/lists/top-100-canciones/'+ str(i)\n",
    "    response=requests.get(url)\n",
    "    response.status_code\n",
    "    pages.append(BeautifulSoup(response.content,'html.parser'))\n",
    "    sleep(2)\n",
    "    for i in pages:\n",
    "        for title in i.select('div.name'):\n",
    "            title1.append(title.get_text().strip())\n",
    "        for artist in i.select('div.related'):\n",
    "            artist1.append(artist.get_text().strip())\n",
    "        \n"
   ]
  },
  {
   "cell_type": "code",
   "execution_count": 12,
   "id": "49085e51",
   "metadata": {},
   "outputs": [],
   "source": [
    "famous=pd.DataFrame({'title':title1,'artist':artist1})"
   ]
  },
  {
   "cell_type": "code",
   "execution_count": 13,
   "id": "c013b7b4",
   "metadata": {},
   "outputs": [],
   "source": [
    "famous=famous.drop_duplicates()"
   ]
  },
  {
   "cell_type": "code",
   "execution_count": 14,
   "id": "3247e2b7",
   "metadata": {},
   "outputs": [],
   "source": [
    "songs_df=pd.concat([hot100,famous],axis=0)"
   ]
  },
  {
   "cell_type": "code",
   "execution_count": 15,
   "id": "da20660b",
   "metadata": {},
   "outputs": [
    {
     "name": "stdout",
     "output_type": "stream",
     "text": [
      "Song i like: Butter\n"
     ]
    }
   ],
   "source": [
    "song=input('Song i like: ')"
   ]
  },
  {
   "cell_type": "code",
   "execution_count": 16,
   "id": "d2790ca1",
   "metadata": {},
   "outputs": [],
   "source": [
    "titles= list(songs_df['title'].values)"
   ]
  },
  {
   "cell_type": "code",
   "execution_count": 17,
   "id": "18060d68",
   "metadata": {},
   "outputs": [
    {
     "name": "stdout",
     "output_type": "stream",
     "text": [
      "Junya\n"
     ]
    }
   ],
   "source": [
    "if song in titles:\n",
    "    titles.remove(song)\n",
    "    selected=titles[randint(0,100)]\n",
    "    print(selected)\n",
    "else:\n",
    "    print('no')"
   ]
  },
  {
   "cell_type": "code",
   "execution_count": 18,
   "id": "9b57f77a",
   "metadata": {},
   "outputs": [],
   "source": [
    "CLIENT_ID = '112611cf1e204dfd93ac56899676e4ac'\n",
    "CLIENT_SECRET = 'a2929c0b24f6469085d8f234e90a8515'"
   ]
  },
  {
   "cell_type": "code",
   "execution_count": 19,
   "id": "36c258b8",
   "metadata": {},
   "outputs": [],
   "source": [
    "import spotipy\n",
    "from spotipy.oauth2 import SpotifyClientCredentials"
   ]
  },
  {
   "cell_type": "code",
   "execution_count": 20,
   "id": "c0fcbe90",
   "metadata": {},
   "outputs": [],
   "source": [
    "import spotipy\n",
    "from spotipy.oauth2 import SpotifyClientCredentials\n",
    "\n",
    "#Initialize SpotiPy with user credentials\n",
    "sp = spotipy.Spotify(auth_manager=SpotifyClientCredentials(client_id=CLIENT_ID,\n",
    "                                                           client_secret=CLIENT_SECRET))"
   ]
  },
  {
   "cell_type": "code",
   "execution_count": 158,
   "id": "37bedf8d",
   "metadata": {},
   "outputs": [],
   "source": [
    "from random import randint\n",
    "from time import sleep\n",
    "\n",
    "def get_playlist_tracks(playlist_id):\n",
    "    results = sp.user_playlist_tracks(\"spotify\",playlist_id)\n",
    "    tracks = results['items']\n",
    "    while results['next']!=None:\n",
    "        results = sp.next(results)\n",
    "        tracks = tracks + results['items']\n",
    "        \n",
    "    song_name = []\n",
    "    artist_name = []\n",
    "    song_features = []  \n",
    "    #len(tracks)\n",
    "    for song in range(5000):\n",
    "        song_name.append(tracks[song]['track']['name'])\n",
    "        artist_name.append(tracks[song]['track']['artists'][0]['name'])\n",
    "        song_features.append(sp.audio_features(tracks[song]['track']['uri']))\n",
    "    \n",
    "    \n",
    "    song_features_values=[]\n",
    "    for value in range(len(song_features)):\n",
    "        if song_features[value] !=[None]:\n",
    "            song_features_name=list(song_features[0][0].keys())\n",
    "            song_features_values.append(list(song_features[value][0].values()))\n",
    "\n",
    "    \n",
    "    a=pd.DataFrame({'title':song_name,'artist':artist_name})\n",
    "    b=pd.DataFrame(song_features_values,columns=song_features_name)\n",
    "    \n",
    "    return pd.concat([a,b], axis=1)\n"
   ]
  },
  {
   "cell_type": "code",
   "execution_count": 163,
   "id": "5ad31e0e",
   "metadata": {},
   "outputs": [],
   "source": [
    "def get_playlist_tracks1(playlist_id):\n",
    "    results = sp.user_playlist_tracks(\"spotify\",playlist_id)\n",
    "    tracks = results['items']\n",
    "    while results['next']!=None:\n",
    "        results = sp.next(results)\n",
    "        tracks = tracks + results['items']\n",
    "        \n",
    "    song_name = []\n",
    "    artist_name = []\n",
    "    song_features = []  \n",
    "    #len(tracks)\n",
    "    for song in range(5000,10000):\n",
    "        song_name.append(tracks[song]['track']['name'])\n",
    "        artist_name.append(tracks[song]['track']['artists'][0]['name'])\n",
    "        song_features.append(sp.audio_features(tracks[song]['track']['uri']))\n",
    "    \n",
    "    \n",
    "    song_features_values=[]\n",
    "    for value in range(len(song_features)):\n",
    "        if song_features[value] !=[None]:\n",
    "            song_features_name=list(song_features[0][0].keys())\n",
    "            song_features_values.append(list(song_features[value][0].values()))\n",
    "\n",
    "    \n",
    "    a=pd.DataFrame({'title':song_name,'artist':artist_name})\n",
    "    b=pd.DataFrame(song_features_values,columns=song_features_name)\n",
    "    \n",
    "    return pd.concat([a,b], axis=1)"
   ]
  },
  {
   "cell_type": "code",
   "execution_count": 161,
   "id": "9b44e5ea",
   "metadata": {},
   "outputs": [
    {
     "name": "stderr",
     "output_type": "stream",
     "text": [
      "Expected id of type track but found type 100+Amazing+Bass+Lines spotify:local:::100+Amazing+Bass+Lines:785\n",
      "Expected id of type track but found type Alabama+Shakes+performing+Don%27t+Wanna+Fight+Live+on+KCRW spotify:local:::Alabama+Shakes+performing+Don%27t+Wanna+Fight+Live+on+KCRW:251\n",
      "Expected id of type track but found type Anderson+East+-+Satisfy+Me+-+3_15_2015+-+Riverview+Bungalow%2C+Austin%2C+TX spotify:local:::Anderson+East+-+Satisfy+Me+-+3_15_2015+-+Riverview+Bungalow%2C+Austin%2C+TX:164\n",
      "Expected id of type track but found type Art+Of+Sleeping+cover+Drake+%27Hotline+Bling%27+for+Like+A+Version spotify:local:::Art+Of+Sleeping+cover+Drake+%27Hotline+Bling%27+for+Like+A+Version:281\n",
      "Expected id of type track but found type Bahamas+-+Stronger+Than+That+%28Buzzsession%29 spotify:local:::Bahamas+-+Stronger+Than+That+%28Buzzsession%29:172\n",
      "Expected id of type track but found type CHANSON+_+RE%CC%81PLIQUES+DE+FILMS+%28AVEC+MIRO+BELZIL%29 spotify:local:::CHANSON+_+RE%CC%81PLIQUES+DE+FILMS+%28AVEC+MIRO+BELZIL%29:168\n",
      "Expected id of type track but found type Chanson+du+250e+anniversaire+du+Colle%CC%80ge+de+Montre%CC%81al. spotify:local:::Chanson+du+250e+anniversaire+du+Colle%CC%80ge+de+Montre%CC%81al.:278\n",
      "Expected id of type track but found type Chvrches+cover+Arctic+Monkeys%27+%27Do+I+Wanna+Know_%27+for+Like+A+Version spotify:local:::Chvrches+cover+Arctic+Monkeys%27+%27Do+I+Wanna+Know_%27+for+Like+A+Version:313\n",
      "Expected id of type track but found type David+Bowie+-+Space+Oddity+%28Passenger+Cover%29 spotify:local:::David+Bowie+-+Space+Oddity+%28Passenger+Cover%29:281\n",
      "Expected id of type track but found type The+Districts+-+Long+Distance+%28Buzzsession%29 spotify:local:::The+Districts+-+Long+Distance+%28Buzzsession%29:410\n",
      "Expected id of type track but found type Fly+Golden+Eagle+-+White+Lighter+-+Live+from+The+Paste+Parlour spotify:local:::Fly+Golden+Eagle+-+White+Lighter+-+Live+from+The+Paste+Parlour:217\n",
      "Expected id of type track but found type Gnarls+Barkley+-+Crazy+%28Cover%29+by+Daniela+Andrade spotify:local:::Gnarls+Barkley+-+Crazy+%28Cover%29+by+Daniela+Andrade:242\n",
      "Expected id of type track but found type Gone spotify:local:::Gone:122\n",
      "Expected id of type track but found type Hozier+-+Someone+New+%28live+sessions%29 spotify:local:::Hozier+-+Someone+New+%28live+sessions%29:221\n",
      "Expected id of type track but found type James+Hill+-+Voodoo+Child+%28Hendrix+Cover%29 spotify:local:::James+Hill+-+Voodoo+Child+%28Hendrix+Cover%29:298\n",
      "Expected id of type track but found type The+Jungle+Giants+cover+Cut+Copy+%27Lights+%26+Music%27+for+Like+A+Version spotify:local:::The+Jungle+Giants+cover+Cut+Copy+%27Lights+%26+Music%27+for+Like+A+Version:298\n",
      "Expected id of type track but found type Kings+of+Leon+-+Where+is+my+mind+%28Pixies+cover%29 spotify:local:::Kings+of+Leon+-+Where+is+my+mind+%28Pixies+cover%29:232\n",
      "Expected id of type track but found type Kris+Fuchigami+-+Can%27t+Take+My+Eyes+Off+You-+Ukulele+Instrumental spotify:local:::Kris+Fuchigami+-+Can%27t+Take+My+Eyes+Off+You-+Ukulele+Instrumental:295\n",
      "Expected id of type track but found type Kris+Fuchigami+-+Europa+%28HiSessions.com+Acoustic+Live%21%29 spotify:local:::Kris+Fuchigami+-+Europa+%28HiSessions.com+Acoustic+Live%21%29:354\n",
      "Expected id of type track but found type L%27ALCOOL+%28commentaires+en+chanson+VI%29 spotify:local:::L%27ALCOOL+%28commentaires+en+chanson+VI%29:256\n",
      "Expected id of type track but found type LA+PAIX+%28commentaires+en+chanson+XII%29 spotify:local:::LA+PAIX+%28commentaires+en+chanson+XII%29:254\n",
      "Expected id of type track but found type LA+TIMIDITE%CC%81+%28commentaires+en+chanson+X%29 spotify:local:::LA+TIMIDITE%CC%81+%28commentaires+en+chanson+X%29:225\n",
      "Expected id of type track but found type LE+BONHEUR+%28commentaires+en+chanson+VII%29 spotify:local:::LE+BONHEUR+%28commentaires+en+chanson+VII%29:162\n",
      "Expected id of type track but found type LES+APPARENCES+%28commentaires+en+chanson+XI%29 spotify:local:::LES+APPARENCES+%28commentaires+en+chanson+XI%29:154\n",
      "Expected id of type track but found type LES+FILLES+%28commentaires+en+chanson+III%29 spotify:local:::LES+FILLES+%28commentaires+en+chanson+III%29:188\n",
      "Expected id of type track but found type LES+HATERS+%28commentaire+en+chanson+VIII%29 spotify:local:::LES+HATERS+%28commentaire+en+chanson+VIII%29:153\n",
      "Expected id of type track but found type Loveland+-+Soran+%28Acoustic+Cover%29 spotify:local:::Loveland+-+Soran+%28Acoustic+Cover%29:193\n",
      "Expected id of type track but found type Milky+Chance+-+Crazy+%28cover%29 spotify:local:::Milky+Chance+-+Crazy+%28cover%29:261\n",
      "Expected id of type track but found type Milky+Chance+-+Don%27t+Think+Twice+%2C+It%27s+Alright spotify:local:::Milky+Chance+-+Don%27t+Think+Twice+%2C+It%27s+Alright:284\n",
      "Expected id of type track but found type Milky+Chance+-+Down+By+The+River+%5Bacoustic%5D spotify:local:::Milky+Chance+-+Down+By+The+River+%5Bacoustic%5D:243\n",
      "Expected id of type track but found type Milky+Chance+-+Fairytale+%5Bacoustic%5D spotify:local:::Milky+Chance+-+Fairytale+%5Bacoustic%5D:254\n",
      "Expected id of type track but found type Milky+Chance+-+Feathery+%28Startrampe+Live+Session%29 spotify:local:::Milky+Chance+-+Feathery+%28Startrampe+Live+Session%29:208\n",
      "Expected id of type track but found type Milky+Chance+-+Let+Us+Run+Little+Love spotify:local:::Milky+Chance+-+Let+Us+Run+Little+Love:191\n",
      "Expected id of type track but found type Milky+Chance+-+Loveland+___+Berlin+Sessions+%28Bonus%29 spotify:local:::Milky+Chance+-+Loveland+___+Berlin+Sessions+%28Bonus%29:243\n",
      "Expected id of type track but found type Milky+Chance+-+Never+mind spotify:local:::Milky+Chance+-+Never+mind:333\n",
      "Expected id of type track but found type Milky+Chance+-+Reggae+Ball spotify:local:::Milky+Chance+-+Reggae+Ball:200\n",
      "Expected id of type track but found type Milky+Chance+-+Unknown+Song+feat.+Paulina+Eisenberg spotify:local:::Milky+Chance+-+Unknown+Song+feat.+Paulina+Eisenberg:252\n",
      "Expected id of type track but found type Milky+Chance+-+Where+Is+My+Mind+%28Pixies+Cover%29 spotify:local:::Milky+Chance+-+Where+Is+My+Mind+%28Pixies+Cover%29:281\n",
      "Expected id of type track but found type Paradis+City+-+Soran+Dussaigne+%28Cover%29 spotify:local:::Paradis+City+-+Soran+Dussaigne+%28Cover%29:162\n",
      "Expected id of type track but found type Pixies+-+Where+Is+My+Mind_+%28Cover%29+by+Daniela+Andrade spotify:local:::Pixies+-+Where+Is+My+Mind_+%28Cover%29+by+Daniela+Andrade:178\n",
      "Expected id of type track but found type Sometimes+I+Like+To+Lie+-+AnnenMayKantereit spotify:local:::Sometimes+I+Like+To+Lie+-+AnnenMayKantereit:189\n",
      "Expected id of type track but found type Soran+-+When+Everything+Goes+Wrong+%28Tiny+House+Sessions%29 spotify:local:::Soran+-+When+Everything+Goes+Wrong+%28Tiny+House+Sessions%29:167\n",
      "Expected id of type track but found type Soran+Dussaigne+-+Hotel+California+%28Acoustic+Cover%29 spotify:local:::Soran+Dussaigne+-+Hotel+California+%28Acoustic+Cover%29:174\n",
      "Expected id of type track but found type Soran+Dussaigne+-+New+Problems+%28Original+Song%29 spotify:local:::Soran+Dussaigne+-+New+Problems+%28Original+Song%29:187\n",
      "Expected id of type track but found type Soran+Dussaigne+-+Riptide spotify:local:::Soran+Dussaigne+-+Riptide:151\n",
      "Expected id of type track but found type Soran+Dussaigne+-+Roxanne+%28Live+Sessions%29 spotify:local:::Soran+Dussaigne+-+Roxanne+%28Live+Sessions%29:134\n",
      "Expected id of type track but found type Soran+Dussaigne+-+Take+Me+To+Church+%28Acoustic+Cover%29 spotify:local:::Soran+Dussaigne+-+Take+Me+To+Church+%28Acoustic+Cover%29:163\n",
      "Expected id of type track but found type Tame+Impala+-+The+Less+I+Know+The+Better+%28live%29 spotify:local:::Tame+Impala+-+The+Less+I+Know+The+Better+%28live%29:298\n",
      "Expected id of type track but found type Taylor+Swift+covers+Vance+Joy%27s+Riptide+in+the+Live+Lounge spotify:local:::Taylor+Swift+covers+Vance+Joy%27s+Riptide+in+the+Live+Lounge:209\n",
      "Expected id of type track but found type Twenty+One+Pilots+-+Stressed+Out+%28Ukulele+Version%29 spotify:local:::Twenty+One+Pilots+-+Stressed+Out+%28Ukulele+Version%29:268\n",
      "Expected id of type track but found type Who+Made+Who+-+Keep+Me+In+My+Plane spotify:local:::Who+Made+Who+-+Keep+Me+In+My+Plane:221\n",
      "Expected id of type track but found type Who+Made+Who+-+Rose spotify:local:::Who+Made+Who+-+Rose:256\n"
     ]
    },
    {
     "name": "stderr",
     "output_type": "stream",
     "text": [
      "Expected id of type track but found type Who+Made+Who+-+Space+For+Rent spotify:local:::Who+Made+Who+-+Space+For+Rent:360\n",
      "Expected id of type track but found type Xavier+Cafeine+-+Gise%CC%80le spotify:local:::Xavier+Cafeine+-+Gise%CC%80le:261\n",
      "Expected id of type track but found type Xavier+Cafe%CC%81ine+-+La+fin+du+monde spotify:local:::Xavier+Cafe%CC%81ine+-+La+fin+du+monde:292\n",
      "Expected id of type track but found type Xavier+Cafeine+-+Montreal+%28Cette+ville%29 spotify:local:::Xavier+Cafeine+-+Montreal+%28Cette+ville%29:305\n",
      "Expected id of type track but found type Wii+Shop+Channel+Music spotify:local:::Wii+Shop+Channel+Music:559\n"
     ]
    }
   ],
   "source": [
    "song_feat_df=get_playlist_tracks('6yPiKpy7evrwvZodByKvM9')"
   ]
  },
  {
   "cell_type": "code",
   "execution_count": 164,
   "id": "856a17dd",
   "metadata": {},
   "outputs": [
    {
     "name": "stderr",
     "output_type": "stream",
     "text": [
      "Expected id of type track but found type All+You+Need+Is+Love spotify:local:The+Beatles:1967-1970+%5BDisc+1%5D:All+You+Need+Is+Love:228\n",
      "Expected id of type track but found type Gathering+All+the+Lost+Loves spotify:local:General+Elektriks:Good+City+for+Dreamers:Gathering+All+the+Lost+Loves:168\n",
      "Expected id of type track but found type Love+You+To spotify:local:The+Beatles:Revolver:Love+You+To:181\n",
      "Expected id of type track but found type All+You+Need+Is+Love spotify:local:The+Beatles:Magical+Mystery+Tour:All+You+Need+Is+Love:230\n",
      "Expected id of type track but found type twenty+_+one+_+pilots_+Can%27t+Help+Falling+In+Love spotify:local:::twenty+_+one+_+pilots_+Can%27t+Help+Falling+In+Love:177\n",
      "Expected id of type track but found type Crown+Of+Love spotify:local:Arcade+Fire:Funeral:Crown+Of+Love:282\n",
      "Expected id of type track but found type 03+You+Got+Yr.+Cherry+Bomb spotify:local:::03+You+Got+Yr.+Cherry+Bomb:188\n",
      "Expected id of type track but found type 04+Don%27t+You+Evah spotify:local:::04+Don%27t+You+Evah:216\n",
      "Expected id of type track but found type Your+Mother+Should+Know spotify:local:The+Beatles:Magical+Mystery+Tour:Your+Mother+Should+Know:148\n",
      "Expected id of type track but found type Baby+You%27re+A+Rich+Man spotify:local:The+Beatles:Magical+Mystery+Tour:Baby+You%27re+A+Rich+Man:181\n",
      "Expected id of type track but found type And+Your+Bird+Can+Sing spotify:local:The+Beatles:Revolver:And+Your+Bird+Can+Sing:121\n",
      "Expected id of type track but found type I+Want+To+Tell+You spotify:local:The+Beatles:Revolver:I+Want+To+Tell+You:149\n",
      "Expected id of type track but found type Got+To+Get+You+Into+My+Life spotify:local:The+Beatles:Revolver:Got+To+Get+You+Into+My+Life:150\n",
      "Expected id of type track but found type You%27re+So+Right spotify:local:The+Strokes:Angles:You%27re+So+Right:153\n",
      "Expected id of type track but found type 01+I+Give+You+Power+%28feat.+Mavis+Staples%29 spotify:local:::01+I+Give+You+Power+%28feat.+Mavis+Staples%29:225\n",
      "Expected id of type track but found type Run+For+Your+Life spotify:local:The+Beatles:Rubber+Soul:Run+For+Your+Life:138\n",
      "Expected id of type track but found type I+Want+You+%28She%27s+So+Heavy%29 spotify:local:The+Beatles:Abbey+Road:I+Want+You+%28She%27s+So+Heavy%29:467\n",
      "Expected id of type track but found type Neighborhood+%231+%28Tunnels%29 spotify:local:Arcade+Fire:Funeral:Neighborhood+%231+%28Tunnels%29:288\n",
      "Expected id of type track but found type Bullet+In+the+Brain spotify:local:The+Black+Keys:Turn+Blue:Bullet+In+the+Brain:256\n",
      "Expected id of type track but found type Fever spotify:local:The+Black+Keys:Turn+Blue:Fever:246\n",
      "Expected id of type track but found type Gotta+Get+Away spotify:local:The+Black+Keys:Turn+Blue:Gotta+Get+Away:182\n",
      "Expected id of type track but found type In+Our+Prime spotify:local:The+Black+Keys:Turn+Blue:In+Our+Prime:278\n",
      "Expected id of type track but found type Good+Day+Sunshine spotify:local:The+Beatles:Revolver:Good+Day+Sunshine:129\n",
      "Expected id of type track but found type A+Day+In+The+Life spotify:local:The+Beatles:1967-1970+%5BDisc+1%5D:A+Day+In+The+Life:307\n",
      "Expected id of type track but found type Another+Day spotify:local:WhoMadeWho:Dreams:Another+Day:258\n"
     ]
    }
   ],
   "source": [
    "song_feat_df1=get_playlist_tracks1('6yPiKpy7evrwvZodByKvM9')"
   ]
  },
  {
   "cell_type": "code",
   "execution_count": 166,
   "id": "61b69155",
   "metadata": {},
   "outputs": [],
   "source": [
    "spoty_df=pd.concat([song_feat_df,song_feat_df],axis=0)\n"
   ]
  },
  {
   "cell_type": "code",
   "execution_count": 172,
   "id": "ebf245dd",
   "metadata": {},
   "outputs": [
    {
     "data": {
      "text/html": [
       "<div>\n",
       "<style scoped>\n",
       "    .dataframe tbody tr th:only-of-type {\n",
       "        vertical-align: middle;\n",
       "    }\n",
       "\n",
       "    .dataframe tbody tr th {\n",
       "        vertical-align: top;\n",
       "    }\n",
       "\n",
       "    .dataframe thead th {\n",
       "        text-align: right;\n",
       "    }\n",
       "</style>\n",
       "<table border=\"1\" class=\"dataframe\">\n",
       "  <thead>\n",
       "    <tr style=\"text-align: right;\">\n",
       "      <th></th>\n",
       "      <th>title</th>\n",
       "      <th>artist</th>\n",
       "      <th>danceability</th>\n",
       "      <th>energy</th>\n",
       "      <th>key</th>\n",
       "      <th>loudness</th>\n",
       "      <th>mode</th>\n",
       "      <th>speechiness</th>\n",
       "      <th>acousticness</th>\n",
       "      <th>instrumentalness</th>\n",
       "      <th>liveness</th>\n",
       "      <th>valence</th>\n",
       "      <th>tempo</th>\n",
       "      <th>type</th>\n",
       "      <th>id</th>\n",
       "      <th>uri</th>\n",
       "      <th>track_href</th>\n",
       "      <th>analysis_url</th>\n",
       "      <th>duration_ms</th>\n",
       "      <th>time_signature</th>\n",
       "    </tr>\n",
       "  </thead>\n",
       "  <tbody>\n",
       "    <tr>\n",
       "      <th>0</th>\n",
       "      <td>2K</td>\n",
       "      <td>Nosaj Thing</td>\n",
       "      <td>0.310</td>\n",
       "      <td>0.445</td>\n",
       "      <td>7.0</td>\n",
       "      <td>-13.355</td>\n",
       "      <td>0.0</td>\n",
       "      <td>0.0863</td>\n",
       "      <td>0.0940</td>\n",
       "      <td>0.06780</td>\n",
       "      <td>0.1130</td>\n",
       "      <td>0.122</td>\n",
       "      <td>95.360</td>\n",
       "      <td>audio_features</td>\n",
       "      <td>33xMbeHzmWd6Od0BmLZEUs</td>\n",
       "      <td>spotify:track:33xMbeHzmWd6Od0BmLZEUs</td>\n",
       "      <td>https://api.spotify.com/v1/tracks/33xMbeHzmWd6...</td>\n",
       "      <td>https://api.spotify.com/v1/audio-analysis/33xM...</td>\n",
       "      <td>152560.0</td>\n",
       "      <td>3.0</td>\n",
       "    </tr>\n",
       "    <tr>\n",
       "      <th>1</th>\n",
       "      <td>4 Billion Souls</td>\n",
       "      <td>The Doors</td>\n",
       "      <td>0.419</td>\n",
       "      <td>0.565</td>\n",
       "      <td>5.0</td>\n",
       "      <td>-11.565</td>\n",
       "      <td>1.0</td>\n",
       "      <td>0.0347</td>\n",
       "      <td>0.1370</td>\n",
       "      <td>0.33700</td>\n",
       "      <td>0.1280</td>\n",
       "      <td>0.648</td>\n",
       "      <td>151.277</td>\n",
       "      <td>audio_features</td>\n",
       "      <td>3UnyplmZaq547hwsfOR5yy</td>\n",
       "      <td>spotify:track:3UnyplmZaq547hwsfOR5yy</td>\n",
       "      <td>https://api.spotify.com/v1/tracks/3UnyplmZaq54...</td>\n",
       "      <td>https://api.spotify.com/v1/audio-analysis/3Uny...</td>\n",
       "      <td>197707.0</td>\n",
       "      <td>4.0</td>\n",
       "    </tr>\n",
       "    <tr>\n",
       "      <th>2</th>\n",
       "      <td>4 Minute Warning</td>\n",
       "      <td>Radiohead</td>\n",
       "      <td>0.354</td>\n",
       "      <td>0.302</td>\n",
       "      <td>9.0</td>\n",
       "      <td>-13.078</td>\n",
       "      <td>1.0</td>\n",
       "      <td>0.0326</td>\n",
       "      <td>0.5900</td>\n",
       "      <td>0.07090</td>\n",
       "      <td>0.1110</td>\n",
       "      <td>0.223</td>\n",
       "      <td>123.753</td>\n",
       "      <td>audio_features</td>\n",
       "      <td>1w8QCSDH4QobcQeT4uMKLm</td>\n",
       "      <td>spotify:track:1w8QCSDH4QobcQeT4uMKLm</td>\n",
       "      <td>https://api.spotify.com/v1/tracks/1w8QCSDH4Qob...</td>\n",
       "      <td>https://api.spotify.com/v1/audio-analysis/1w8Q...</td>\n",
       "      <td>244285.0</td>\n",
       "      <td>4.0</td>\n",
       "    </tr>\n",
       "    <tr>\n",
       "      <th>3</th>\n",
       "      <td>7 Element</td>\n",
       "      <td>Vitas</td>\n",
       "      <td>0.727</td>\n",
       "      <td>0.785</td>\n",
       "      <td>5.0</td>\n",
       "      <td>-6.707</td>\n",
       "      <td>0.0</td>\n",
       "      <td>0.0603</td>\n",
       "      <td>0.3250</td>\n",
       "      <td>0.12600</td>\n",
       "      <td>0.3100</td>\n",
       "      <td>0.960</td>\n",
       "      <td>129.649</td>\n",
       "      <td>audio_features</td>\n",
       "      <td>7J9mBHG4J2eIfDAv5BehKA</td>\n",
       "      <td>spotify:track:7J9mBHG4J2eIfDAv5BehKA</td>\n",
       "      <td>https://api.spotify.com/v1/tracks/7J9mBHG4J2eI...</td>\n",
       "      <td>https://api.spotify.com/v1/audio-analysis/7J9m...</td>\n",
       "      <td>249940.0</td>\n",
       "      <td>4.0</td>\n",
       "    </tr>\n",
       "    <tr>\n",
       "      <th>4</th>\n",
       "      <td>#9 Dream</td>\n",
       "      <td>R.E.M.</td>\n",
       "      <td>0.571</td>\n",
       "      <td>0.724</td>\n",
       "      <td>0.0</td>\n",
       "      <td>-5.967</td>\n",
       "      <td>1.0</td>\n",
       "      <td>0.0260</td>\n",
       "      <td>0.0231</td>\n",
       "      <td>0.00311</td>\n",
       "      <td>0.0919</td>\n",
       "      <td>0.385</td>\n",
       "      <td>116.755</td>\n",
       "      <td>audio_features</td>\n",
       "      <td>1VZedwJj1gyi88WFRhfThb</td>\n",
       "      <td>spotify:track:1VZedwJj1gyi88WFRhfThb</td>\n",
       "      <td>https://api.spotify.com/v1/tracks/1VZedwJj1gyi...</td>\n",
       "      <td>https://api.spotify.com/v1/audio-analysis/1VZe...</td>\n",
       "      <td>278320.0</td>\n",
       "      <td>4.0</td>\n",
       "    </tr>\n",
       "  </tbody>\n",
       "</table>\n",
       "</div>"
      ],
      "text/plain": [
       "              title       artist  danceability  energy  key  loudness  mode  \\\n",
       "0                2K  Nosaj Thing         0.310   0.445  7.0   -13.355   0.0   \n",
       "1   4 Billion Souls    The Doors         0.419   0.565  5.0   -11.565   1.0   \n",
       "2  4 Minute Warning    Radiohead         0.354   0.302  9.0   -13.078   1.0   \n",
       "3         7 Element        Vitas         0.727   0.785  5.0    -6.707   0.0   \n",
       "4          #9 Dream       R.E.M.         0.571   0.724  0.0    -5.967   1.0   \n",
       "\n",
       "   speechiness  acousticness  instrumentalness  liveness  valence    tempo  \\\n",
       "0       0.0863        0.0940           0.06780    0.1130    0.122   95.360   \n",
       "1       0.0347        0.1370           0.33700    0.1280    0.648  151.277   \n",
       "2       0.0326        0.5900           0.07090    0.1110    0.223  123.753   \n",
       "3       0.0603        0.3250           0.12600    0.3100    0.960  129.649   \n",
       "4       0.0260        0.0231           0.00311    0.0919    0.385  116.755   \n",
       "\n",
       "             type                      id  \\\n",
       "0  audio_features  33xMbeHzmWd6Od0BmLZEUs   \n",
       "1  audio_features  3UnyplmZaq547hwsfOR5yy   \n",
       "2  audio_features  1w8QCSDH4QobcQeT4uMKLm   \n",
       "3  audio_features  7J9mBHG4J2eIfDAv5BehKA   \n",
       "4  audio_features  1VZedwJj1gyi88WFRhfThb   \n",
       "\n",
       "                                    uri  \\\n",
       "0  spotify:track:33xMbeHzmWd6Od0BmLZEUs   \n",
       "1  spotify:track:3UnyplmZaq547hwsfOR5yy   \n",
       "2  spotify:track:1w8QCSDH4QobcQeT4uMKLm   \n",
       "3  spotify:track:7J9mBHG4J2eIfDAv5BehKA   \n",
       "4  spotify:track:1VZedwJj1gyi88WFRhfThb   \n",
       "\n",
       "                                          track_href  \\\n",
       "0  https://api.spotify.com/v1/tracks/33xMbeHzmWd6...   \n",
       "1  https://api.spotify.com/v1/tracks/3UnyplmZaq54...   \n",
       "2  https://api.spotify.com/v1/tracks/1w8QCSDH4Qob...   \n",
       "3  https://api.spotify.com/v1/tracks/7J9mBHG4J2eI...   \n",
       "4  https://api.spotify.com/v1/tracks/1VZedwJj1gyi...   \n",
       "\n",
       "                                        analysis_url  duration_ms  \\\n",
       "0  https://api.spotify.com/v1/audio-analysis/33xM...     152560.0   \n",
       "1  https://api.spotify.com/v1/audio-analysis/3Uny...     197707.0   \n",
       "2  https://api.spotify.com/v1/audio-analysis/1w8Q...     244285.0   \n",
       "3  https://api.spotify.com/v1/audio-analysis/7J9m...     249940.0   \n",
       "4  https://api.spotify.com/v1/audio-analysis/1VZe...     278320.0   \n",
       "\n",
       "   time_signature  \n",
       "0             3.0  \n",
       "1             4.0  \n",
       "2             4.0  \n",
       "3             4.0  \n",
       "4             4.0  "
      ]
     },
     "execution_count": 172,
     "metadata": {},
     "output_type": "execute_result"
    }
   ],
   "source": [
    "spoty_df.head()"
   ]
  },
  {
   "cell_type": "code",
   "execution_count": 168,
   "id": "5ab1af1e",
   "metadata": {},
   "outputs": [],
   "source": [
    "import numpy as np\n",
    "import matplotlib.pyplot as plt\n",
    "from sklearn import cluster\n",
    "from sklearn.cluster import KMeans"
   ]
  },
  {
   "cell_type": "code",
   "execution_count": 187,
   "id": "4a5df084",
   "metadata": {},
   "outputs": [],
   "source": [
    "spoty_df=spoty_df[spoty_df['mode'].isna()== False]"
   ]
  },
  {
   "cell_type": "code",
   "execution_count": 188,
   "id": "7b77e352",
   "metadata": {},
   "outputs": [
    {
     "data": {
      "text/plain": [
       "0"
      ]
     },
     "execution_count": 188,
     "metadata": {},
     "output_type": "execute_result"
    }
   ],
   "source": [
    "spoty_df['mode'].isna().sum()"
   ]
  },
  {
   "cell_type": "code",
   "execution_count": 189,
   "id": "caf2af24",
   "metadata": {},
   "outputs": [],
   "source": [
    "X_id=spoty_df[['title','artist','type','id','uri','track_href','analysis_url']]\n",
    "X_feat=spoty_df.drop(['title','artist','type','id','uri','track_href','analysis_url'],axis=1)"
   ]
  },
  {
   "cell_type": "code",
   "execution_count": 190,
   "id": "76bdcc41",
   "metadata": {},
   "outputs": [
    {
     "data": {
      "text/plain": [
       "Text(0.5, 1.0, 'Elbow Method showing the optimal k')"
      ]
     },
     "execution_count": 190,
     "metadata": {},
     "output_type": "execute_result"
    },
    {
     "data": {
      "image/png": "[encoded data removed]",
      "text/plain": [
       "<Figure size 1152x576 with 1 Axes>"
      ]
     },
     "metadata": {
      "needs_background": "light"
     },
     "output_type": "display_data"
    }
   ],
   "source": [
    "K = range(2, 20)\n",
    "inertia = []\n",
    "\n",
    "for k in K:\n",
    "    kmeans = KMeans(n_clusters=k,\n",
    "                    random_state=1234)\n",
    "    kmeans.fit(X_feat)\n",
    "    inertia.append(kmeans.inertia_)\n",
    "\n",
    "import matplotlib.pyplot as plt\n",
    "%matplotlib inline\n",
    "\n",
    "plt.figure(figsize=(16,8))\n",
    "plt.plot(K, inertia, 'bx-')\n",
    "plt.xlabel('k')\n",
    "plt.ylabel('inertia')\n",
    "plt.xticks(np.arange(min(K), max(K)+1, 1.0))\n",
    "plt.title('Elbow Method showing the optimal k')"
   ]
  },
  {
   "cell_type": "code",
   "execution_count": 191,
   "id": "ecc878ba",
   "metadata": {},
   "outputs": [
    {
     "data": {
      "text/plain": [
       "KMeans(init='random', max_iter=10, n_clusters=3, n_init=30, random_state=1234,\n",
       "       tol=0)"
      ]
     },
     "execution_count": 191,
     "metadata": {},
     "output_type": "execute_result"
    }
   ],
   "source": [
    "kmeans = KMeans(n_clusters=3,\n",
    "                init=\"random\",\n",
    "                n_init=30,  # try with 1, 4, 8, 20, 30, 100...\n",
    "                max_iter=10,\n",
    "                tol=0,\n",
    "                random_state=1234)\n",
    "kmeans.fit(X_feat)"
   ]
  },
  {
   "cell_type": "code",
   "execution_count": null,
   "id": "c0d18db0",
   "metadata": {},
   "outputs": [],
   "source": []
  }
 ],
 "metadata": {
  "kernelspec": {
   "display_name": "Python 3",
   "language": "python",
   "name": "python3"
  },
  "language_info": {
   "codemirror_mode": {
    "name": "ipython",
    "version": 3
   },
   "file_extension": ".py",
   "mimetype": "text/x-python",
   "name": "python",
   "nbconvert_exporter": "python",
   "pygments_lexer": "ipython3",
   "version": "3.8.8"
  }
 },
 "nbformat": 4,
 "nbformat_minor": 5
}
